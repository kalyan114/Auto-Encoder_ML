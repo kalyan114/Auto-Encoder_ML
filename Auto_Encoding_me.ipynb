{
  "nbformat": 4,
  "nbformat_minor": 0,
  "metadata": {
    "colab": {
      "provenance": [],
      "include_colab_link": true
    },
    "kernelspec": {
      "name": "python3",
      "display_name": "Python 3"
    },
    "language_info": {
      "name": "python"
    }
  },
  "cells": [
    {
      "cell_type": "markdown",
      "metadata": {
        "id": "view-in-github",
        "colab_type": "text"
      },
      "source": [
        "<a href=\"https://colab.research.google.com/github/kalyan114/Auto-Encoder_ML/blob/main/Auto_Encoding_me.ipynb\" target=\"_parent\"><img src=\"https://colab.research.google.com/assets/colab-badge.svg\" alt=\"Open In Colab\"/></a>"
      ]
    },
    {
      "cell_type": "markdown",
      "source": [
        "1. Simple Autoencoder\n",
        "We begin by importing all the necessary libraries :"
      ],
      "metadata": {
        "id": "7F9uNBxQx2t1"
      }
    },
    {
      "cell_type": "code",
      "execution_count": null,
      "metadata": {
        "id": "oIV5ToZIxQW2"
      },
      "outputs": [],
      "source": [
        "from keras.layers import Dense,Conv2D,MaxPooling2D,UpSampling2D\n",
        "from keras import Input, Model\n",
        "from keras.datasets import mnist\n",
        "import numpy as np\n",
        "import matplotlib.pyplot as plt"
      ]
    },
    {
      "cell_type": "markdown",
      "source": [
        "Then we will build our model and we will provide the number of dimensions that will decide how much the input will be compressed. The lesser the dimension, the more will be the compression."
      ],
      "metadata": {
        "id": "MkfLnNGVx9fC"
      }
    },
    {
      "cell_type": "code",
      "source": [
        "encoding_dim = 15 \n",
        "input_img = Input(shape=(784,))\n",
        "# encoded representation of input\n",
        "encoded = Dense(encoding_dim, activation='relu')(input_img)\n",
        "# decoded representation of code \n",
        "decoded = Dense(784, activation='sigmoid')(encoded)\n",
        "# Model which take input image and shows decoded images\n",
        "autoencoder = Model(input_img, decoded)"
      ],
      "metadata": {
        "id": "J_oiUz2cxZd7"
      },
      "execution_count": null,
      "outputs": []
    },
    {
      "cell_type": "markdown",
      "source": [
        "Then we need to build the encoder model and decoder model separately so that we can easily differentiate between the input and output."
      ],
      "metadata": {
        "id": "YY6SxfnayBNT"
      }
    },
    {
      "cell_type": "code",
      "source": [
        "# This model shows encoded images\n",
        "encoder = Model(input_img, encoded)\n",
        "# Creating a decoder model\n",
        "encoded_input = Input(shape=(encoding_dim,))\n",
        "# last layer of the autoencoder model\n",
        "decoder_layer = autoencoder.layers[-1]\n",
        "# decoder model\n",
        "decoder = Model(encoded_input, decoder_layer(encoded_input))"
      ],
      "metadata": {
        "id": "YA3fbBCdxcvs"
      },
      "execution_count": null,
      "outputs": []
    },
    {
      "cell_type": "markdown",
      "source": [
        "Then we need to compile the model with the ADAM optimizer and cross-entropy loss function fitment."
      ],
      "metadata": {
        "id": "lK2mcFkVyEXx"
      }
    },
    {
      "cell_type": "code",
      "source": [
        "autoencoder.compile(optimizer='adam', loss='binary_crossentropy')"
      ],
      "metadata": {
        "id": "Gdr6kvqDxhKl"
      },
      "execution_count": null,
      "outputs": []
    },
    {
      "cell_type": "markdown",
      "source": [
        "Then you need to load the data :"
      ],
      "metadata": {
        "id": "vpOOhuU4yHq5"
      }
    },
    {
      "cell_type": "code",
      "source": [
        "(x_train, y_train), (x_test, y_test) = mnist.load_data()\n",
        "x_train = x_train.astype('float32') / 255.\n",
        "x_test = x_test.astype('float32') / 255.\n",
        "x_train = x_train.reshape((len(x_train), np.prod(x_train.shape[1:])))\n",
        "x_test = x_test.reshape((len(x_test), np.prod(x_test.shape[1:])))\n",
        "print(x_train.shape)\n",
        "print(x_test.shape)"
      ],
      "metadata": {
        "colab": {
          "base_uri": "https://localhost:8080/"
        },
        "id": "aUsr5ab2xjnB",
        "outputId": "ad52824e-5a20-4c79-f04f-dbe18b5754e5"
      },
      "execution_count": null,
      "outputs": [
        {
          "output_type": "stream",
          "name": "stdout",
          "text": [
            "Downloading data from https://storage.googleapis.com/tensorflow/tf-keras-datasets/mnist.npz\n",
            "11493376/11490434 [==============================] - 0s 0us/step\n",
            "11501568/11490434 [==============================] - 0s 0us/step\n",
            "(60000, 784)\n",
            "(10000, 784)\n"
          ]
        }
      ]
    },
    {
      "cell_type": "markdown",
      "source": [
        "If you want to see how the data is actually, you can use the following line of code :"
      ],
      "metadata": {
        "id": "KQsXBc1IyMZM"
      }
    },
    {
      "cell_type": "code",
      "source": [
        "plt.imshow(x_train[0].reshape(28,28))"
      ],
      "metadata": {
        "colab": {
          "base_uri": "https://localhost:8080/",
          "height": 282
        },
        "id": "XwUqBVuWxrqC",
        "outputId": "4d5ebc20-8e08-421d-fc47-5fc871651956"
      },
      "execution_count": null,
      "outputs": [
        {
          "output_type": "execute_result",
          "data": {
            "text/plain": [
              "<matplotlib.image.AxesImage at 0x7f1b36851750>"
            ]
          },
          "metadata": {},
          "execution_count": 6
        },
        {
          "output_type": "display_data",
          "data": {
            "text/plain": [
              "<Figure size 432x288 with 1 Axes>"
            ],
            "image/png": "[encoded data removed]"
          },
          "metadata": {
            "needs_background": "light"
          }
        }
      ]
    },
    {
      "cell_type": "markdown",
      "source": [
        "Then you need to train your model :"
      ],
      "metadata": {
        "id": "uSe1YAruyS2d"
      }
    },
    {
      "cell_type": "code",
      "source": [
        "autoencoder.fit(x_train, x_train,\n",
        "                epochs=15,\n",
        "                batch_size=256,\n",
        "                validation_data=(x_test, x_test))"
      ],
      "metadata": {
        "colab": {
          "base_uri": "https://localhost:8080/"
        },
        "id": "hUVlURc9xueU",
        "outputId": "80213732-5cd3-4736-bfb3-3db25f92d74e"
      },
      "execution_count": null,
      "outputs": [
        {
          "output_type": "stream",
          "name": "stdout",
          "text": [
            "Epoch 1/15\n",
            "235/235 [==============================] - 3s 9ms/step - loss: 0.3120 - val_loss: 0.2300\n",
            "Epoch 2/15\n",
            "235/235 [==============================] - 3s 12ms/step - loss: 0.2066 - val_loss: 0.1868\n",
            "Epoch 3/15\n",
            "235/235 [==============================] - 2s 9ms/step - loss: 0.1764 - val_loss: 0.1641\n",
            "Epoch 4/15\n",
            "235/235 [==============================] - 2s 9ms/step - loss: 0.1592 - val_loss: 0.1532\n",
            "Epoch 5/15\n",
            "235/235 [==============================] - 2s 9ms/step - loss: 0.1515 - val_loss: 0.1477\n",
            "Epoch 6/15\n",
            "235/235 [==============================] - 2s 9ms/step - loss: 0.1473 - val_loss: 0.1443\n",
            "Epoch 7/15\n",
            "235/235 [==============================] - 2s 9ms/step - loss: 0.1443 - val_loss: 0.1416\n",
            "Epoch 8/15\n",
            "235/235 [==============================] - 2s 9ms/step - loss: 0.1418 - val_loss: 0.1393\n",
            "Epoch 9/15\n",
            "235/235 [==============================] - 3s 13ms/step - loss: 0.1397 - val_loss: 0.1374\n",
            "Epoch 10/15\n",
            "235/235 [==============================] - 2s 10ms/step - loss: 0.1380 - val_loss: 0.1358\n",
            "Epoch 11/15\n",
            "235/235 [==============================] - 2s 9ms/step - loss: 0.1367 - val_loss: 0.1347\n",
            "Epoch 12/15\n",
            "235/235 [==============================] - 2s 9ms/step - loss: 0.1357 - val_loss: 0.1338\n",
            "Epoch 13/15\n",
            "235/235 [==============================] - 2s 9ms/step - loss: 0.1351 - val_loss: 0.1333\n",
            "Epoch 14/15\n",
            "235/235 [==============================] - 2s 9ms/step - loss: 0.1346 - val_loss: 0.1328\n",
            "Epoch 15/15\n",
            "235/235 [==============================] - 3s 11ms/step - loss: 0.1342 - val_loss: 0.1324\n"
          ]
        },
        {
          "output_type": "execute_result",
          "data": {
            "text/plain": [
              "<keras.callbacks.History at 0x7f1b36346850>"
            ]
          },
          "metadata": {},
          "execution_count": 7
        }
      ]
    },
    {
      "cell_type": "markdown",
      "source": [
        "After training, you need to provide the input and you can plot the results using the following code :"
      ],
      "metadata": {
        "id": "5k5C3D_uymWC"
      }
    },
    {
      "cell_type": "code",
      "source": [
        "encoded_img = encoder.predict(x_test)\n",
        "decoded_img = decoder.predict(encoded_img)\n",
        "plt.figure(figsize=(20, 4))\n",
        "for i in range(5):\n",
        "    # Display original\n",
        "    ax = plt.subplot(2, 5, i + 1)\n",
        "    plt.imshow(x_test[i].reshape(28, 28))\n",
        "    plt.gray()\n",
        "    ax.get_xaxis().set_visible(False)\n",
        "    ax.get_yaxis().set_visible(False)\n",
        "    # Display reconstruction\n",
        "    ax = plt.subplot(2, 5, i + 1 + 5)\n",
        "    plt.imshow(decoded_img[i].reshape(28, 28))\n",
        "    plt.gray()\n",
        "    ax.get_xaxis().set_visible(False)\n",
        "    ax.get_yaxis().set_visible(False)\n",
        "plt.show()"
      ],
      "metadata": {
        "colab": {
          "base_uri": "https://localhost:8080/",
          "height": 252
        },
        "id": "7eb2WsWbxvx7",
        "outputId": "b0bc14a0-686d-4dca-8176-c51fea95b4cd"
      },
      "execution_count": null,
      "outputs": [
        {
          "output_type": "display_data",
          "data": {
            "text/plain": [
              "<Figure size 1440x288 with 10 Axes>"
            ],
            "image/png": "[encoded data removed]"
          },
          "metadata": {
            "needs_background": "light"
          }
        }
      ]
    },
    {
      "cell_type": "markdown",
      "source": [
        "You can clearly see the output for the encoded and decoded images respectively as shown below."
      ],
      "metadata": {
        "id": "zu8e7iTDyuJ-"
      }
    },
    {
      "cell_type": "markdown",
      "source": [
        "2. Deep CNN Autoencoder :\n",
        "\n",
        "Since the input here is images, it does make more sense to use a Convolutional Neural network or CNN. The encoder will be made up of a stack of Conv2D and max-pooling layer and the decoder will have a stack of Conv2D and Upsampling Layer."
      ],
      "metadata": {
        "id": "_0Whqd6UyzTo"
      }
    },
    {
      "cell_type": "code",
      "source": [
        "from keras.models import Sequential"
      ],
      "metadata": {
        "id": "WnWRrbQGzZ78"
      },
      "execution_count": null,
      "outputs": []
    },
    {
      "cell_type": "code",
      "source": [
        "model = Sequential()\n",
        "# encoder network\n",
        "model.add(Conv2D(30, 3, activation= 'relu', padding='same', input_shape = (28,28,1)))\n",
        "model.add(MaxPooling2D(2, padding= 'same'))\n",
        "model.add(Conv2D(15, 3, activation= 'relu', padding='same'))\n",
        "model.add(MaxPooling2D(2, padding= 'same'))\n",
        "#decoder network\n",
        "model.add(Conv2D(15, 3, activation= 'relu', padding='same'))\n",
        "model.add(UpSampling2D(2))\n",
        "model.add(Conv2D(30, 3, activation= 'relu', padding='same'))\n",
        "model.add(UpSampling2D(2))\n",
        "model.add(Conv2D(1,3,activation='sigmoid', padding= 'same')) # output layer\n",
        "model.compile(optimizer= 'adam', loss = 'binary_crossentropy')\n",
        "model.summary()"
      ],
      "metadata": {
        "colab": {
          "base_uri": "https://localhost:8080/"
        },
        "id": "BaztnAX8yt0B",
        "outputId": "4dc72425-d095-409c-fe98-1d6f76a2d93d"
      },
      "execution_count": null,
      "outputs": [
        {
          "output_type": "stream",
          "name": "stdout",
          "text": [
            "Model: \"sequential\"\n",
            "_________________________________________________________________\n",
            " Layer (type)                Output Shape              Param #   \n",
            "=================================================================\n",
            " conv2d (Conv2D)             (None, 28, 28, 30)        300       \n",
            "                                                                 \n",
            " max_pooling2d (MaxPooling2D  (None, 14, 14, 30)       0         \n",
            " )                                                               \n",
            "                                                                 \n",
            " conv2d_1 (Conv2D)           (None, 14, 14, 15)        4065      \n",
            "                                                                 \n",
            " max_pooling2d_1 (MaxPooling  (None, 7, 7, 15)         0         \n",
            " 2D)                                                             \n",
            "                                                                 \n",
            " conv2d_2 (Conv2D)           (None, 7, 7, 15)          2040      \n",
            "                                                                 \n",
            " up_sampling2d (UpSampling2D  (None, 14, 14, 15)       0         \n",
            " )                                                               \n",
            "                                                                 \n",
            " conv2d_3 (Conv2D)           (None, 14, 14, 30)        4080      \n",
            "                                                                 \n",
            " up_sampling2d_1 (UpSampling  (None, 28, 28, 30)       0         \n",
            " 2D)                                                             \n",
            "                                                                 \n",
            " conv2d_4 (Conv2D)           (None, 28, 28, 1)         271       \n",
            "                                                                 \n",
            "=================================================================\n",
            "Total params: 10,756\n",
            "Trainable params: 10,756\n",
            "Non-trainable params: 0\n",
            "_________________________________________________________________\n"
          ]
        }
      ]
    },
    {
      "cell_type": "markdown",
      "source": [
        "Now you need to load the data and training the model"
      ],
      "metadata": {
        "id": "a1Bg_tUbzdoE"
      }
    },
    {
      "cell_type": "code",
      "source": [
        "(x_train, _), (x_test, _) = mnist.load_data()\n",
        "x_train = x_train.astype('float32') / 255.\n",
        "x_test = x_test.astype('float32') / 255.\n",
        "x_train = np.reshape(x_train, (len(x_train), 28, 28, 1))\n",
        "x_test = np.reshape(x_test, (len(x_test), 28, 28, 1))\n",
        "model.fit(x_train, x_train,\n",
        "                epochs=15,\n",
        "                batch_size=128,\n",
        "                validation_data=(x_test, x_test))"
      ],
      "metadata": {
        "colab": {
          "base_uri": "https://localhost:8080/"
        },
        "id": "ltMkjfWmzdUI",
        "outputId": "036155fa-ae51-48d8-edff-b11245a73500"
      },
      "execution_count": null,
      "outputs": [
        {
          "output_type": "stream",
          "name": "stdout",
          "text": [
            "Epoch 1/15\n",
            "469/469 [==============================] - 136s 290ms/step - loss: 0.1292 - val_loss: 0.0805\n",
            "Epoch 2/15\n",
            "469/469 [==============================] - 127s 270ms/step - loss: 0.0783 - val_loss: 0.0752\n",
            "Epoch 3/15\n",
            "469/469 [==============================] - 123s 263ms/step - loss: 0.0748 - val_loss: 0.0733\n",
            "Epoch 4/15\n",
            "469/469 [==============================] - 123s 263ms/step - loss: 0.0730 - val_loss: 0.0717\n",
            "Epoch 5/15\n",
            "469/469 [==============================] - 122s 260ms/step - loss: 0.0719 - val_loss: 0.0708\n",
            "Epoch 6/15\n",
            "469/469 [==============================] - 124s 263ms/step - loss: 0.0710 - val_loss: 0.0700\n",
            "Epoch 7/15\n",
            "469/469 [==============================] - 122s 260ms/step - loss: 0.0704 - val_loss: 0.0695\n",
            "Epoch 8/15\n",
            "469/469 [==============================] - 127s 270ms/step - loss: 0.0698 - val_loss: 0.0692\n",
            "Epoch 9/15\n",
            "469/469 [==============================] - 122s 261ms/step - loss: 0.0694 - val_loss: 0.0686\n",
            "Epoch 10/15\n",
            "469/469 [==============================] - 123s 263ms/step - loss: 0.0690 - val_loss: 0.0685\n",
            "Epoch 11/15\n",
            "469/469 [==============================] - 122s 260ms/step - loss: 0.0687 - val_loss: 0.0680\n",
            "Epoch 12/15\n",
            "469/469 [==============================] - 123s 262ms/step - loss: 0.0684 - val_loss: 0.0678\n",
            "Epoch 13/15\n",
            "469/469 [==============================] - 123s 262ms/step - loss: 0.0682 - val_loss: 0.0676\n",
            "Epoch 14/15\n",
            "469/469 [==============================] - 123s 262ms/step - loss: 0.0680 - val_loss: 0.0675\n",
            "Epoch 15/15\n",
            "469/469 [==============================] - 122s 260ms/step - loss: 0.0678 - val_loss: 0.0673\n"
          ]
        },
        {
          "output_type": "execute_result",
          "data": {
            "text/plain": [
              "<keras.callbacks.History at 0x7f1b35d90fd0>"
            ]
          },
          "metadata": {},
          "execution_count": 12
        }
      ]
    },
    {
      "cell_type": "markdown",
      "source": [
        "Now you need to provide the input and plot the output for the following results"
      ],
      "metadata": {
        "id": "Qx9n1IBozjDV"
      }
    },
    {
      "cell_type": "code",
      "source": [
        "pred = model.predict(x_test)\n",
        "plt.figure(figsize=(20, 4))\n",
        "for i in range(5):\n",
        "    # Display original\n",
        "    ax = plt.subplot(2, 5, i + 1)\n",
        "    plt.imshow(x_test[i].reshape(28, 28))\n",
        "    plt.gray()\n",
        "    ax.get_xaxis().set_visible(False)\n",
        "    ax.get_yaxis().set_visible(False)\n",
        "    # Display reconstruction\n",
        "    ax = plt.subplot(2, 5, i + 1 + 5)\n",
        "    plt.imshow(pred[i].reshape(28, 28))\n",
        "    plt.gray()\n",
        "    ax.get_xaxis().set_visible(False)\n",
        "    ax.get_yaxis().set_visible(False)\n",
        "plt.show()"
      ],
      "metadata": {
        "colab": {
          "base_uri": "https://localhost:8080/",
          "height": 252
        },
        "id": "2Mio1tQdzlTW",
        "outputId": "c131a116-55dd-4b93-cb65-62aae2062d35"
      },
      "execution_count": null,
      "outputs": [
        {
          "output_type": "display_data",
          "data": {
            "text/plain": [
              "<Figure size 1440x288 with 10 Axes>"
            ],
            "image/png": "[encoded data removed]"
          },
          "metadata": {
            "needs_background": "light"
          }
        }
      ]
    },
    {
      "cell_type": "markdown",
      "source": [
        "3. Denoising Autoencoder\n",
        "Now we will see how the model performs with noise in the image. What we mean by noise is blurry images, changing the color of the images, or even white markers on the image."
      ],
      "metadata": {
        "id": "yM0lpGp3zvfh"
      }
    },
    {
      "cell_type": "code",
      "source": [
        "noise_factor = 0.7\n",
        "x_train_noisy = x_train + noise_factor * np.random.normal(loc=0.0, scale=1.0, size=x_train.shape) \n",
        "x_test_noisy = x_test + noise_factor * np.random.normal(loc=0.0, scale=1.0, size=x_test.shape) \n",
        "x_train_noisy = np.clip(x_train_noisy, 0., 1.)\n",
        "x_test_noisy = np.clip(x_test_noisy, 0., 1.)\n",
        "# Here is how the noisy images look right now.\n",
        "plt.figure(figsize=(20, 2))\n",
        "for i in range(1, 5 + 1):\n",
        "    ax = plt.subplot(1, 5, i)\n",
        "    plt.imshow(x_test_noisy[i].reshape(28, 28))\n",
        "    plt.gray()\n",
        "    ax.get_xaxis().set_visible(False)\n",
        "    ax.get_yaxis().set_visible(False)\n",
        "plt.show()"
      ],
      "metadata": {
        "colab": {
          "base_uri": "https://localhost:8080/",
          "height": 143
        },
        "id": "mfYpINPSzyqq",
        "outputId": "431da6d1-ffcc-4c40-90a5-35e81a1266e4"
      },
      "execution_count": null,
      "outputs": [
        {
          "output_type": "display_data",
          "data": {
            "text/plain": [
              "<Figure size 1440x144 with 5 Axes>"
            ],
            "image/png": "[encoded data removed]"
          },
          "metadata": {
            "needs_background": "light"
          }
        }
      ]
    },
    {
      "cell_type": "markdown",
      "source": [
        "Now the images are barely identifiable and to increase the extent of the autoencoder, we will modify the layers of the defined model to increase the filter so that the model performs better and then fit the model."
      ],
      "metadata": {
        "id": "86EM4ogbz1l0"
      }
    },
    {
      "cell_type": "code",
      "source": [
        "model = Sequential()\n",
        "# encoder network\n",
        "model.add(Conv2D(35, 3, activation= 'relu', padding='same', input_shape = (28,28,1)))\n",
        "model.add(MaxPooling2D(2, padding= 'same'))\n",
        "model.add(Conv2D(25, 3, activation= 'relu', padding='same'))\n",
        "model.add(MaxPooling2D(2, padding= 'same'))\n",
        "#decoder network\n",
        "model.add(Conv2D(25, 3, activation= 'relu', padding='same'))\n",
        "model.add(UpSampling2D(2))\n",
        "model.add(Conv2D(35, 3, activation= 'relu', padding='same'))\n",
        "model.add(UpSampling2D(2))\n",
        "model.add(Conv2D(1,3,activation='sigmoid', padding= 'same')) # output layer\n",
        "model.compile(optimizer= 'adam', loss = 'binary_crossentropy')\n",
        "model.fit(x_train_noisy, x_train,\n",
        "                epochs=15,\n",
        "                batch_size=128,\n",
        "                validation_data=(x_test_noisy, x_test))"
      ],
      "metadata": {
        "colab": {
          "base_uri": "https://localhost:8080/"
        },
        "id": "RwMn5fXjz3x0",
        "outputId": "dac5091a-17f0-49f5-c54f-2fbe1b3219c8"
      },
      "execution_count": null,
      "outputs": [
        {
          "metadata": {
            "tags": null
          },
          "name": "stdout",
          "output_type": "stream",
          "text": [
            "Epoch 1/15\n",
            "469/469 [==============================] - 156s 332ms/step - loss: 0.1941 - val_loss: 0.1490\n",
            "Epoch 2/15\n",
            "469/469 [==============================] - 155s 330ms/step - loss: 0.1446 - val_loss: 0.1390\n",
            "Epoch 3/15\n",
            "469/469 [==============================] - 156s 333ms/step - loss: 0.1374 - val_loss: 0.1347\n",
            "Epoch 4/15\n",
            "469/469 [==============================] - 156s 333ms/step - loss: 0.1331 - val_loss: 0.1309\n",
            "Epoch 5/15\n",
            "469/469 [==============================] - 153s 327ms/step - loss: 0.1308 - val_loss: 0.1289\n",
            "Epoch 6/15\n",
            "469/469 [==============================] - 154s 329ms/step - loss: 0.1292 - val_loss: 0.1275\n",
            "Epoch 7/15\n",
            "469/469 [==============================] - 155s 330ms/step - loss: 0.1280 - val_loss: 0.1267\n",
            "Epoch 8/15\n",
            "469/469 [==============================] - 156s 333ms/step - loss: 0.1270 - val_loss: 0.1259\n",
            "Epoch 9/15\n",
            "469/469 [==============================] - 155s 330ms/step - loss: 0.1262 - val_loss: 0.1249\n",
            "Epoch 10/15\n",
            "469/469 [==============================] - 154s 327ms/step - loss: 0.1255 - val_loss: 0.1242\n",
            "Epoch 11/15\n",
            "469/469 [==============================] - 155s 330ms/step - loss: 0.1249 - val_loss: 0.1249\n",
            "Epoch 12/15\n",
            "469/469 [==============================] - 155s 331ms/step - loss: 0.1244 - val_loss: 0.1235\n",
            "Epoch 13/15\n",
            "469/469 [==============================] - 154s 329ms/step - loss: 0.1239 - val_loss: 0.1230\n",
            "Epoch 14/15\n",
            "469/469 [==============================] - 155s 331ms/step - loss: 0.1234 - val_loss: 0.1228\n",
            "Epoch 15/15\n",
            "469/469 [==============================] - 155s 331ms/step - loss: 0.1231 - val_loss: 0.1224\n"
          ]
        },
        {
          "output_type": "execute_result",
          "data": {
            "text/plain": [
              "<keras.callbacks.History at 0x7f1b304ec0d0>"
            ]
          },
          "metadata": {},
          "execution_count": 18
        }
      ]
    },
    {
      "cell_type": "markdown",
      "source": [
        "After the training, we will provide the input and write a plot function to see the final results."
      ],
      "metadata": {
        "id": "bHL-nwdpz6ml"
      }
    },
    {
      "cell_type": "code",
      "source": [
        "pred = model.predict(x_test_noisy)\n",
        "plt.figure(figsize=(20, 4))\n",
        "for i in range(5):\n",
        "    # Display original\n",
        "    ax = plt.subplot(2, 5, i + 1)\n",
        "    plt.imshow(x_test_noisy[i].reshape(28, 28))\n",
        "    plt.gray()\n",
        "    ax.get_xaxis().set_visible(False)\n",
        "    ax.get_yaxis().set_visible(False)\n",
        "    # Display reconstruction\n",
        "    ax = plt.subplot(2, 5, i + 1 + 5)\n",
        "    plt.imshow(pred[i].reshape(28, 28))\n",
        "    plt.gray()\n",
        "    ax.get_xaxis().set_visible(False)\n",
        "    ax.get_yaxis().set_visible(False)\n",
        "plt.show()"
      ],
      "metadata": {
        "colab": {
          "base_uri": "https://localhost:8080/",
          "height": 252
        },
        "id": "liILepsQz8Wf",
        "outputId": "a7ac531a-0033-4746-a352-a60d89b509a0"
      },
      "execution_count": null,
      "outputs": [
        {
          "output_type": "display_data",
          "data": {
            "text/plain": [
              "<Figure size 1440x288 with 10 Axes>"
            ],
            "image/png": "[encoded data removed]"
          },
          "metadata": {
            "needs_background": "light"
          }
        }
      ]
    },
    {
      "cell_type": "markdown",
      "source": [
        "We have gone through the structure of how autoencoders work and worked with 3 types of autoencoders. There are multiple uses for autoencoders like dimensionality reduction image compression, recommendations system for movies and songs and more. The performance of the model can be increased by training it for more epochs or also by increasing the dimension of our network."
      ],
      "metadata": {
        "id": "dWKD4nQPz_94"
      }
    }
  ]
}